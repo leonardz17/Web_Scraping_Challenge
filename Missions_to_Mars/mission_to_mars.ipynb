{
 "cells": [
  {
   "cell_type": "code",
   "execution_count": 22,
   "metadata": {},
   "outputs": [],
   "source": [
    "from splinter import Browser\n",
    "from bs4 import BeautifulSoup as bs\n",
    "from webdriver_manager.chrome import ChromeDriverManager\n",
    "import requests"
   ]
  },
  {
   "cell_type": "markdown",
   "metadata": {},
   "source": [
    "## NASA Mars News"
   ]
  },
  {
   "cell_type": "code",
   "execution_count": 39,
   "metadata": {},
   "outputs": [
    {
     "name": "stderr",
     "output_type": "stream",
     "text": [
      "[WDM] - Current google-chrome version is 87.0.4280\n",
      "[WDM] - Get LATEST driver version for 87.0.4280\n",
      "[WDM] - Driver [C:\\Users\\novad\\.wdm\\drivers\\chromedriver\\win32\\87.0.4280.88\\chromedriver.exe] found in cache\n"
     ]
    },
    {
     "name": "stdout",
     "output_type": "stream",
     "text": [
      " \n"
     ]
    }
   ],
   "source": [
    "executable_path = {'executable_path': ChromeDriverManager().install()}\n",
    "browser = Browser('chrome', **executable_path, headless=False)"
   ]
  },
  {
   "cell_type": "code",
   "execution_count": 42,
   "metadata": {},
   "outputs": [],
   "source": [
    "url = 'https://mars.nasa.gov/news/'\n",
    "browser.visit(url)"
   ]
  },
  {
   "cell_type": "code",
   "execution_count": 43,
   "metadata": {},
   "outputs": [],
   "source": [
    "html = browser.html\n",
    "soup = bs(html, 'html.parser')"
   ]
  },
  {
   "cell_type": "code",
   "execution_count": 44,
   "metadata": {},
   "outputs": [
    {
     "data": {
      "text/plain": [
       "[<ul class=\"item_list\"><li class=\"slide\"><div class=\"image_and_description_container\"><a href=\"/news/8832/nasas-curiosity-rover-reaches-its-3000th-day-on-mars/\" target=\"_self\"><div class=\"rollover_description\"><div class=\"rollover_description_inner\">As the rover has continued to ascend Mount Sharp, it’s found distinctive benchlike rock formations.</div><div class=\"overlay_arrow\"><img alt=\"More\" src=\"/assets/overlay-arrow.png\"/></div></div><div class=\"list_image\"><img alt=\"Mars panorama\" src=\"/system/news_items/list_view_images/8832_25512_PIA24180-panorama-320x240.jpg\"/></div><div class=\"bottom_gradient\"><div><h3>NASA's Curiosity Rover Reaches Its 3,000th Day on Mars</h3></div></div></a><div class=\"list_text\"><div class=\"list_date\">January 12, 2021</div><div class=\"content_title\"><a href=\"/news/8832/nasas-curiosity-rover-reaches-its-3000th-day-on-mars/\" target=\"_self\">NASA's Curiosity Rover Reaches Its 3,000th Day on Mars</a></div><div class=\"article_teaser_body\">As the rover has continued to ascend Mount Sharp, it’s found distinctive benchlike rock formations.</div></div></div></li><li class=\"slide\"><div class=\"image_and_description_container\"><a href=\"/news/8830/celebrate-the-perseverance-rover-landing-with-nasas-student-challenge/\" target=\"_self\"><div class=\"rollover_description\"><div class=\"rollover_description_inner\">The rover touches down on the Red Planet next month, and students are invited to join the excitement by designing, building, and landing their own Mars mission. NASA can help.</div><div class=\"overlay_arrow\"><img alt=\"More\" src=\"/assets/overlay-arrow.png\"/></div></div><div class=\"list_image\"><img alt=\"Collage for mission to Mars\" src=\"/system/news_items/list_view_images/8830_C1-marsworkshop_web-320x240.jpg\"/></div><div class=\"bottom_gradient\"><div><h3>Celebrate the Perseverance Rover Landing With NASA's Student Challenge</h3></div></div></a><div class=\"list_text\"><div class=\"list_date\">January  8, 2021</div><div class=\"content_title\"><a href=\"/news/8830/celebrate-the-perseverance-rover-landing-with-nasas-student-challenge/\" target=\"_self\">Celebrate the Perseverance Rover Landing With NASA's Student Challenge</a></div><div class=\"article_teaser_body\">The rover touches down on the Red Planet next month, and students are invited to join the excitement by designing, building, and landing their own Mars mission. NASA can help.</div></div></div></li><li class=\"slide\"><div class=\"image_and_description_container\"><a href=\"/news/8829/nasa-extends-exploration-for-two-planetary-science-missions/\" target=\"_self\"><div class=\"rollover_description\"><div class=\"rollover_description_inner\">The missions – Juno and InSight – have each increased our understanding of our solar system, as well as spurred new sets of diverse questions.</div><div class=\"overlay_arrow\"><img alt=\"More\" src=\"/assets/overlay-arrow.png\"/></div></div><div class=\"list_image\"><img alt=\"InSight on Mars\" src=\"/system/news_items/list_view_images/8829_PIA22743-320x240.jpg\"/></div><div class=\"bottom_gradient\"><div><h3>NASA Extends Exploration for Two Planetary Science Missions</h3></div></div></a><div class=\"list_text\"><div class=\"list_date\">January  8, 2021</div><div class=\"content_title\"><a href=\"/news/8829/nasa-extends-exploration-for-two-planetary-science-missions/\" target=\"_self\">NASA Extends Exploration for Two Planetary Science Missions</a></div><div class=\"article_teaser_body\">The missions – Juno and InSight – have each increased our understanding of our solar system, as well as spurred new sets of diverse questions.</div></div></div></li><li class=\"slide\"><div class=\"image_and_description_container\"><a href=\"/news/8826/7-things-to-know-about-the-nasa-rover-about-to-land-on-mars/\" target=\"_self\"><div class=\"rollover_description\"><div class=\"rollover_description_inner\">The Mars 2020 Perseverance rover, which has started its approach to the Red Planet, will help answer the next logical question in Mars exploration.</div><div class=\"overlay_arrow\"><img alt=\"More\" src=\"/assets/overlay-arrow.png\"/></div></div><div class=\"list_image\"><img alt=\"Mars 2020 in a clean room\" src=\"/system/news_items/list_view_images/8826_c1-PIA23499_fig1-320.jpg\"/></div><div class=\"bottom_gradient\"><div><h3>7 Things to Know About the NASA Rover About to Land on Mars</h3></div></div></a><div class=\"list_text\"><div class=\"list_date\">January  6, 2021</div><div class=\"content_title\"><a href=\"/news/8826/7-things-to-know-about-the-nasa-rover-about-to-land-on-mars/\" target=\"_self\">7 Things to Know About the NASA Rover About to Land on Mars</a></div><div class=\"article_teaser_body\">The Mars 2020 Perseverance rover, which has started its approach to the Red Planet, will help answer the next logical question in Mars exploration.</div></div></div></li><li class=\"slide\"><div class=\"image_and_description_container\"><a href=\"/news/8822/a-martian-roundtrip-nasas-perseverance-rover-sample-tubes/\" target=\"_self\"><div class=\"rollover_description\"><div class=\"rollover_description_inner\">Marvels of engineering, the rover's sample tubes must be tough enough to safely bring Red Planet samples on the long journey back to Earth in immaculate condition. </div><div class=\"overlay_arrow\"><img alt=\"More\" src=\"/assets/overlay-arrow.png\"/></div></div><div class=\"list_image\"><img alt=\"A tray holding 39 sample tubes – each protected in a gold-colored sheath – is installed in NASA's Perseverance rover in this picture taken at the agency's Kennedy Space Center on May 21, 2020.\" src=\"/system/news_items/list_view_images/8822_1-PIA24304-CatScanMars-320x240.gif\"/></div><div class=\"bottom_gradient\"><div><h3>A Martian Roundtrip: NASA's Perseverance Rover Sample Tubes</h3></div></div></a><div class=\"list_text\"><div class=\"list_date\">December 22, 2020</div><div class=\"content_title\"><a href=\"/news/8822/a-martian-roundtrip-nasas-perseverance-rover-sample-tubes/\" target=\"_self\">A Martian Roundtrip: NASA's Perseverance Rover Sample Tubes</a></div><div class=\"article_teaser_body\">Marvels of engineering, the rover's sample tubes must be tough enough to safely bring Red Planet samples on the long journey back to Earth in immaculate condition. </div></div></div></li><li class=\"slide\"><div class=\"image_and_description_container\"><a href=\"/news/8819/nasa-moves-forward-with-campaign-to-return-mars-samples-to-earth/\" target=\"_self\"><div class=\"rollover_description\"><div class=\"rollover_description_inner\">During this next phase, the program will mature critical technologies and make critical design decisions as well as assess industry partnerships.</div><div class=\"overlay_arrow\"><img alt=\"More\" src=\"/assets/overlay-arrow.png\"/></div></div><div class=\"list_image\"><img alt=\"Illustration of Mars rover drilling\" src=\"/system/news_items/list_view_images/8819_24759_PIA23491-web.jpg\"/></div><div class=\"bottom_gradient\"><div><h3>NASA Moves Forward With Campaign to Return Mars Samples to Earth</h3></div></div></a><div class=\"list_text\"><div class=\"list_date\">December 17, 2020</div><div class=\"content_title\"><a href=\"/news/8819/nasa-moves-forward-with-campaign-to-return-mars-samples-to-earth/\" target=\"_self\">NASA Moves Forward With Campaign to Return Mars Samples to Earth</a></div><div class=\"article_teaser_body\">During this next phase, the program will mature critical technologies and make critical design decisions as well as assess industry partnerships.</div></div></div></li><li class=\"slide\"><div class=\"image_and_description_container\"><a href=\"/news/8817/3-things-weve-learned-from-nasas-mars-insight/\" target=\"_self\"><div class=\"rollover_description\"><div class=\"rollover_description_inner\">Scientists are finding new mysteries since the geophysics mission landed two years ago.</div><div class=\"overlay_arrow\"><img alt=\"More\" src=\"/assets/overlay-arrow.png\"/></div></div><div class=\"list_image\"><img alt=\"clouds over NASA Insight on Mars\" src=\"/system/news_items/list_view_images/8817_PIA23180_320.gif\"/></div><div class=\"bottom_gradient\"><div><h3>3 Things We've Learned From NASA's Mars InSight </h3></div></div></a><div class=\"list_text\"><div class=\"list_date\">December 16, 2020</div><div class=\"content_title\"><a href=\"/news/8817/3-things-weve-learned-from-nasas-mars-insight/\" target=\"_self\">3 Things We've Learned From NASA's Mars InSight </a></div><div class=\"article_teaser_body\">Scientists are finding new mysteries since the geophysics mission landed two years ago.</div></div></div></li><li class=\"slide\"><div class=\"image_and_description_container\"><a href=\"/news/8815/from-jpls-mailroom-to-mars-and-beyond/\" target=\"_self\"><div class=\"rollover_description\"><div class=\"rollover_description_inner\">Bill Allen has thrived as the mechanical systems design lead for three Mars rover missions, but he got his start as a teenager sorting letters for the NASA center.</div><div class=\"overlay_arrow\"><img alt=\"More\" src=\"/assets/overlay-arrow.png\"/></div></div><div class=\"list_image\"><img alt=\"Bill Allen standing in the Mars yard\" src=\"/system/news_items/list_view_images/8815_C1-bill-allen-Mars-Yard-2020-320.jpg\"/></div><div class=\"bottom_gradient\"><div><h3>From JPL's Mailroom to Mars and Beyond</h3></div></div></a><div class=\"list_text\"><div class=\"list_date\">December 14, 2020</div><div class=\"content_title\"><a href=\"/news/8815/from-jpls-mailroom-to-mars-and-beyond/\" target=\"_self\">From JPL's Mailroom to Mars and Beyond</a></div><div class=\"article_teaser_body\">Bill Allen has thrived as the mechanical systems design lead for three Mars rover missions, but he got his start as a teenager sorting letters for the NASA center.</div></div></div></li><li class=\"slide\"><div class=\"image_and_description_container\"><a href=\"/news/8812/5-hidden-gems-are-riding-aboard-nasas-perseverance-rover/\" target=\"_self\"><div class=\"rollover_description\"><div class=\"rollover_description_inner\">The symbols, mottos, and small objects added to the agency's newest Mars rover serve a variety of purposes, from functional to decorative.</div><div class=\"overlay_arrow\"><img alt=\"More\" src=\"/assets/overlay-arrow.png\"/></div></div><div class=\"list_image\"><img alt=\"NASA's Perseverance Mars rover is &quot;festooned&quot; with a variety of objects that serve both decorative and functional purposes\" src=\"/system/news_items/list_view_images/8812_Perseverance-festooning-collage-320.jpg\"/></div><div class=\"bottom_gradient\"><div><h3>5 Hidden Gems Are Riding Aboard NASA's Perseverance Rover</h3></div></div></a><div class=\"list_text\"><div class=\"list_date\">December  8, 2020</div><div class=\"content_title\"><a href=\"/news/8812/5-hidden-gems-are-riding-aboard-nasas-perseverance-rover/\" target=\"_self\">5 Hidden Gems Are Riding Aboard NASA's Perseverance Rover</a></div><div class=\"article_teaser_body\">The symbols, mottos, and small objects added to the agency's newest Mars rover serve a variety of purposes, from functional to decorative.</div></div></div></li><li class=\"slide\"><div class=\"image_and_description_container\"><a href=\"/news/8805/moxie-could-help-future-rockets-launch-off-mars/\" target=\"_self\"><div class=\"rollover_description\"><div class=\"rollover_description_inner\">NASA's Perseverance rover carries a device to convert Martian air into oxygen that, if produced on a larger scale, could be used not just for breathing, but also for fuel.</div><div class=\"overlay_arrow\"><img alt=\"More\" src=\"/assets/overlay-arrow.png\"/></div></div><div class=\"list_image\"><img alt=\"Engineers lower MOXIE into the belly of NASA's Perseverance rover.\" src=\"/system/news_items/list_view_images/8805_1-MOXIE-PIA24176-320.gif\"/></div><div class=\"bottom_gradient\"><div><h3>MOXIE Could Help Future Rockets Launch Off Mars</h3></div></div></a><div class=\"list_text\"><div class=\"list_date\">November 24, 2020</div><div class=\"content_title\"><a href=\"/news/8805/moxie-could-help-future-rockets-launch-off-mars/\" target=\"_self\">MOXIE Could Help Future Rockets Launch Off Mars</a></div><div class=\"article_teaser_body\">NASA's Perseverance rover carries a device to convert Martian air into oxygen that, if produced on a larger scale, could be used not just for breathing, but also for fuel.</div></div></div></li><li class=\"slide\"><div class=\"image_and_description_container\"><a href=\"/news/8801/hear-audio-from-nasas-perseverance-as-it-travels-through-deep-space/\" target=\"_self\"><div class=\"rollover_description\"><div class=\"rollover_description_inner\">The first to be rigged with microphones, the agency's latest Mars rover picked up the subtle sounds of its own inner workings during interplanetary flight.</div><div class=\"overlay_arrow\"><img alt=\"More\" src=\"/assets/overlay-arrow.png\"/></div></div><div class=\"list_image\"><img alt=\"Location of microphone on Perseverance (Illustration): \" src=\"/system/news_items/list_view_images/8801_20201118_mars2020-320x240.jpg\"/></div><div class=\"bottom_gradient\"><div><h3>Hear Audio From NASA's Perseverance As It Travels Through Deep Space</h3></div></div></a><div class=\"list_text\"><div class=\"list_date\">November 18, 2020</div><div class=\"content_title\"><a href=\"/news/8801/hear-audio-from-nasas-perseverance-as-it-travels-through-deep-space/\" target=\"_self\">Hear Audio From NASA's Perseverance As It Travels Through Deep Space</a></div><div class=\"article_teaser_body\">The first to be rigged with microphones, the agency's latest Mars rover picked up the subtle sounds of its own inner workings during interplanetary flight.</div></div></div></li><li class=\"slide\"><div class=\"image_and_description_container\"><a href=\"/news/8798/mars-is-getting-a-new-robotic-meteorologist/\" target=\"_self\"><div class=\"rollover_description\"><div class=\"rollover_description_inner\">Sensors on NASA's Perseverance will help prepare for future human exploration by taking weather measurements and studying dust particles.</div><div class=\"overlay_arrow\"><img alt=\"More\" src=\"/assets/overlay-arrow.png\"/></div></div><div class=\"list_image\"><img alt=\"Sky-facing Camera on Perseverance Rover\" src=\"/system/news_items/list_view_images/8798_PIA22109-320.jpg\"/></div><div class=\"bottom_gradient\"><div><h3>Mars Is Getting a New Robotic Meteorologist</h3></div></div></a><div class=\"list_text\"><div class=\"list_date\">November 13, 2020</div><div class=\"content_title\"><a href=\"/news/8798/mars-is-getting-a-new-robotic-meteorologist/\" target=\"_self\">Mars Is Getting a New Robotic Meteorologist</a></div><div class=\"article_teaser_body\">Sensors on NASA's Perseverance will help prepare for future human exploration by taking weather measurements and studying dust particles.</div></div></div></li><li class=\"slide\"><div class=\"image_and_description_container\"><a href=\"/news/8797/heat-and-dust-help-launch-martian-water-into-space-scientists-find/\" target=\"_self\"><div class=\"rollover_description\"><div class=\"rollover_description_inner\">Scientists using an instrument aboard NASA’s Mars Atmosphere and Volatile EvolutioN, or MAVEN, spacecraft have discovered that water vapor near the surface of the Red Planet is lofted higher into the atmosphere than anyone expected was possible. </div><div class=\"overlay_arrow\"><img alt=\"More\" src=\"/assets/overlay-arrow.png\"/></div></div><div class=\"list_image\"><img alt=\"\" src=\"/system/news_items/list_view_images/8797_maven_illo_v7-320.jpg\"/></div><div class=\"bottom_gradient\"><div><h3>Heat and Dust Help Launch Martian Water Into Space, Scientists Find</h3></div></div></a><div class=\"list_text\"><div class=\"list_date\">November 13, 2020</div><div class=\"content_title\"><a href=\"/news/8797/heat-and-dust-help-launch-martian-water-into-space-scientists-find/\" target=\"_self\">Heat and Dust Help Launch Martian Water Into Space, Scientists Find</a></div><div class=\"article_teaser_body\">Scientists using an instrument aboard NASA’s Mars Atmosphere and Volatile EvolutioN, or MAVEN, spacecraft have discovered that water vapor near the surface of the Red Planet is lofted higher into the atmosphere than anyone expected was possible. </div></div></div></li><li class=\"slide\"><div class=\"image_and_description_container\"><a href=\"/news/8796/nasas-curiosity-takes-selfie-with-mary-anning-on-the-red-planet/\" target=\"_self\"><div class=\"rollover_description\"><div class=\"rollover_description_inner\">The Mars rover has drilled three samples of rock in this clay-enriched region since arriving in July.</div><div class=\"overlay_arrow\"><img alt=\"More\" src=\"/assets/overlay-arrow.png\"/></div></div><div class=\"list_image\"><img alt=\"Curiosity Mars rover's selfie\" src=\"/system/news_items/list_view_images/8796_PIA24173-320.jpg\"/></div><div class=\"bottom_gradient\"><div><h3>NASA's Curiosity Takes Selfie With 'Mary Anning' on the Red Planet</h3></div></div></a><div class=\"list_text\"><div class=\"list_date\">November 12, 2020</div><div class=\"content_title\"><a href=\"/news/8796/nasas-curiosity-takes-selfie-with-mary-anning-on-the-red-planet/\" target=\"_self\">NASA's Curiosity Takes Selfie With 'Mary Anning' on the Red Planet</a></div><div class=\"article_teaser_body\">The Mars rover has drilled three samples of rock in this clay-enriched region since arriving in July.</div></div></div></li><li class=\"slide\"><div class=\"image_and_description_container\"><a href=\"/news/8794/independent-review-indicates-nasa-prepared-for-mars-sample-return-campaign/\" target=\"_self\"><div class=\"rollover_description\"><div class=\"rollover_description_inner\">NASA released an independent review report Tuesday indicating the agency is well positioned for its Mars Sample Return campaign to bring pristine samples from Mars to Earth for scientific study.</div><div class=\"overlay_arrow\"><img alt=\"More\" src=\"/assets/overlay-arrow.png\"/></div></div><div class=\"list_image\"><img alt=\"illustration of a concept of how the NASA Mars Ascent Vehicle could launch from Mars\" src=\"/system/news_items/list_view_images/8794_PIA23496-320.jpg\"/></div><div class=\"bottom_gradient\"><div><h3>Independent Review Indicates NASA Prepared for Mars Sample Return Campaign</h3></div></div></a><div class=\"list_text\"><div class=\"list_date\">November 10, 2020</div><div class=\"content_title\"><a href=\"/news/8794/independent-review-indicates-nasa-prepared-for-mars-sample-return-campaign/\" target=\"_self\">Independent Review Indicates NASA Prepared for Mars Sample Return Campaign</a></div><div class=\"article_teaser_body\">NASA released an independent review report Tuesday indicating the agency is well positioned for its Mars Sample Return campaign to bring pristine samples from Mars to Earth for scientific study.</div></div></div></li><li class=\"slide\"><div class=\"image_and_description_container\"><a href=\"/news/8792/nasas-perseverance-rover-100-days-out/\" target=\"_self\"><div class=\"rollover_description\"><div class=\"rollover_description_inner\">Mark your calendars: The agency's latest rover has only about 8,640,000 seconds to go before it touches down on the Red Planet, becoming history's next Mars car.</div><div class=\"overlay_arrow\"><img alt=\"More\" src=\"/assets/overlay-arrow.png\"/></div></div><div class=\"list_image\"><img alt=\"\" src=\"/system/news_items/list_view_images/8792_parachute-320x240.jpg\"/></div><div class=\"bottom_gradient\"><div><h3>NASA's Perseverance Rover 100 Days Out</h3></div></div></a><div class=\"list_text\"><div class=\"list_date\">November 10, 2020</div><div class=\"content_title\"><a href=\"/news/8792/nasas-perseverance-rover-100-days-out/\" target=\"_self\">NASA's Perseverance Rover 100 Days Out</a></div><div class=\"article_teaser_body\">Mark your calendars: The agency's latest rover has only about 8,640,000 seconds to go before it touches down on the Red Planet, becoming history's next Mars car.</div></div></div></li><li class=\"slide\"><div class=\"image_and_description_container\"><a href=\"/news/8785/nasas-perseverance-rover-is-midway-to-mars/\" target=\"_self\"><div class=\"rollover_description\"><div class=\"rollover_description_inner\">Sometimes half measures can be a good thing – especially on a journey this long. The agency's latest rover only has about 146 million miles left to reach its destination.</div><div class=\"overlay_arrow\"><img alt=\"More\" src=\"/assets/overlay-arrow.png\"/></div></div><div class=\"list_image\"><img alt=\"illustration of the Mars 2020 spacecraft on route to Mars\" src=\"/system/news_items/list_view_images/8785_PIA24231-320.jpg\"/></div><div class=\"bottom_gradient\"><div><h3>NASA's Perseverance Rover Is Midway to Mars </h3></div></div></a><div class=\"list_text\"><div class=\"list_date\">October 27, 2020</div><div class=\"content_title\"><a href=\"/news/8785/nasas-perseverance-rover-is-midway-to-mars/\" target=\"_self\">NASA's Perseverance Rover Is Midway to Mars </a></div><div class=\"article_teaser_body\">Sometimes half measures can be a good thing – especially on a journey this long. The agency's latest rover only has about 146 million miles left to reach its destination.</div></div></div></li><li class=\"slide\"><div class=\"image_and_description_container\"><a href=\"/news/8782/sensors-on-mars-2020-spacecraft-answer-long-distance-call-from-earth/\" target=\"_self\"><div class=\"rollover_description\"><div class=\"rollover_description_inner\">Instruments tailored to collect data during the descent of NASA's next rover through the Red Planet's atmosphere have been checked in flight.</div><div class=\"overlay_arrow\"><img alt=\"More\" src=\"/assets/overlay-arrow.png\"/></div></div><div class=\"list_image\"><img alt=\"Mars 2020 heat shield and back shell prior to launch\" src=\"/system/news_items/list_view_images/8782_PIA-23989-320.jpg\"/></div><div class=\"bottom_gradient\"><div><h3>Sensors on Mars 2020 Spacecraft Answer Long-Distance Call From Earth</h3></div></div></a><div class=\"list_text\"><div class=\"list_date\">October 22, 2020</div><div class=\"content_title\"><a href=\"/news/8782/sensors-on-mars-2020-spacecraft-answer-long-distance-call-from-earth/\" target=\"_self\">Sensors on Mars 2020 Spacecraft Answer Long-Distance Call From Earth</a></div><div class=\"article_teaser_body\">Instruments tailored to collect data during the descent of NASA's next rover through the Red Planet's atmosphere have been checked in flight.</div></div></div></li><li class=\"slide\"><div class=\"image_and_description_container\"><a href=\"/news/8778/nasas-perseverance-rover-bringing-3d-printed-metal-parts-to-mars/\" target=\"_self\"><div class=\"rollover_description\"><div class=\"rollover_description_inner\">For hobbyists and makers, 3D printing expands creative possibilities; for specialized engineers, it's also key to next-generation spacecraft design.</div><div class=\"overlay_arrow\"><img alt=\"More\" src=\"/assets/overlay-arrow.png\"/></div></div><div class=\"list_image\"><img alt=\"\" src=\"/system/news_items/list_view_images/8778_3d-320x240.jpg\"/></div><div class=\"bottom_gradient\"><div><h3>NASA's Perseverance Rover Bringing 3D-Printed Metal Parts to Mars</h3></div></div></a><div class=\"list_text\"><div class=\"list_date\">October 19, 2020</div><div class=\"content_title\"><a href=\"/news/8778/nasas-perseverance-rover-bringing-3d-printed-metal-parts-to-mars/\" target=\"_self\">NASA's Perseverance Rover Bringing 3D-Printed Metal Parts to Mars</a></div><div class=\"article_teaser_body\">For hobbyists and makers, 3D printing expands creative possibilities; for specialized engineers, it's also key to next-generation spacecraft design.</div></div></div></li><li class=\"slide\"><div class=\"image_and_description_container\"><a href=\"/news/8776/nasa-insights-mole-is-out-of-sight/\" target=\"_self\"><div class=\"rollover_description\"><div class=\"rollover_description_inner\">Now that the heat probe is just below the Martian surface, InSight's arm will scoop some additional soil on top to help it keep digging so it can take Mars' temperature.</div><div class=\"overlay_arrow\"><img alt=\"More\" src=\"/assets/overlay-arrow.png\"/></div></div><div class=\"list_image\"><img alt=\"Animated view of the spike-like mole trying to burrow on Mars\" src=\"/system/news_items/list_view_images/8776_PIA24098-320.gif\"/></div><div class=\"bottom_gradient\"><div><h3>NASA InSight's 'Mole' Is Out of Sight</h3></div></div></a><div class=\"list_text\"><div class=\"list_date\">October 16, 2020</div><div class=\"content_title\"><a href=\"/news/8776/nasa-insights-mole-is-out-of-sight/\" target=\"_self\">NASA InSight's 'Mole' Is Out of Sight</a></div><div class=\"article_teaser_body\">Now that the heat probe is just below the Martian surface, InSight's arm will scoop some additional soil on top to help it keep digging so it can take Mars' temperature.</div></div></div></li><li class=\"slide\"><div class=\"image_and_description_container\"><a href=\"/news/8770/nasas-perseverance-rover-will-peer-beneath-mars-surface/\" target=\"_self\"><div class=\"rollover_description\"><div class=\"rollover_description_inner\">The agency's newest rover will use the first ground-penetrating radar instrument on the Martian surface to help search for signs of past microbial life. </div><div class=\"overlay_arrow\"><img alt=\"More\" src=\"/assets/overlay-arrow.png\"/></div></div><div class=\"list_image\"><img alt=\"Illustration of RIMFAX at work on NASA's Perseverance\" src=\"/system/news_items/list_view_images/8770_PIA24047-320.jpg\"/></div><div class=\"bottom_gradient\"><div><h3>NASA's Perseverance Rover Will Peer Beneath Mars' Surface </h3></div></div></a><div class=\"list_text\"><div class=\"list_date\">October  8, 2020</div><div class=\"content_title\"><a href=\"/news/8770/nasas-perseverance-rover-will-peer-beneath-mars-surface/\" target=\"_self\">NASA's Perseverance Rover Will Peer Beneath Mars' Surface </a></div><div class=\"article_teaser_body\">The agency's newest rover will use the first ground-penetrating radar instrument on the Martian surface to help search for signs of past microbial life. </div></div></div></li><li class=\"slide\"><div class=\"image_and_description_container\"><a href=\"/news/8765/ai-is-helping-scientists-discover-fresh-craters-on-mars/\" target=\"_self\"><div class=\"rollover_description\"><div class=\"rollover_description_inner\">It's the first time machine learning has been used to find previously unknown craters on the Red Planet.</div><div class=\"overlay_arrow\"><img alt=\"More\" src=\"/assets/overlay-arrow.png\"/></div></div><div class=\"list_image\"><img alt=\"crater cluster on Mars\" src=\"/system/news_items/list_view_images/8765_PIA24040-320.jpg\"/></div><div class=\"bottom_gradient\"><div><h3>AI Is Helping Scientists Discover Fresh Craters on Mars</h3></div></div></a><div class=\"list_text\"><div class=\"list_date\">October  1, 2020</div><div class=\"content_title\"><a href=\"/news/8765/ai-is-helping-scientists-discover-fresh-craters-on-mars/\" target=\"_self\">AI Is Helping Scientists Discover Fresh Craters on Mars</a></div><div class=\"article_teaser_body\">It's the first time machine learning has been used to find previously unknown craters on the Red Planet.</div></div></div></li><li class=\"slide\"><div class=\"image_and_description_container\"><a href=\"/news/8762/nasas-new-mars-rover-is-ready-for-space-lasers/\" target=\"_self\"><div class=\"rollover_description\"><div class=\"rollover_description_inner\">Perseverance is one of a few Mars spacecraft carrying laser retroreflectors. The devices could provide new science and safer Mars landings in the future.</div><div class=\"overlay_arrow\"><img alt=\"More\" src=\"/assets/overlay-arrow.png\"/></div></div><div class=\"list_image\"><img alt=\"small dome called the Laser Retroreflector Array on the Perseverance rover\" src=\"/system/news_items/list_view_images/8762_PIA24097-320x240.jpg\"/></div><div class=\"bottom_gradient\"><div><h3>NASA's New Mars Rover Is Ready for Space Lasers</h3></div></div></a><div class=\"list_text\"><div class=\"list_date\">September 28, 2020</div><div class=\"content_title\"><a href=\"/news/8762/nasas-new-mars-rover-is-ready-for-space-lasers/\" target=\"_self\">NASA's New Mars Rover Is Ready for Space Lasers</a></div><div class=\"article_teaser_body\">Perseverance is one of a few Mars spacecraft carrying laser retroreflectors. The devices could provide new science and safer Mars landings in the future.</div></div></div></li><li class=\"slide\"><div class=\"image_and_description_container\"><a href=\"/news/8759/nasas-new-mars-rover-will-use-x-rays-to-hunt-fossils/\" target=\"_self\"><div class=\"rollover_description\"><div class=\"rollover_description_inner\">PIXL, an instrument on the end of the Perseverance rover's arm, will search for chemical fingerprints left by ancient microbes.</div><div class=\"overlay_arrow\"><img alt=\"More\" src=\"/assets/overlay-arrow.png\"/></div></div><div class=\"list_image\"><img alt=\"Illustration of the PIXL instrument on board of Perseverance rover\" src=\"/system/news_items/list_view_images/8759_PIA24092-Main-320.jpg\"/></div><div class=\"bottom_gradient\"><div><h3>NASA's New Mars Rover Will Use X-Rays to Hunt Fossils</h3></div></div></a><div class=\"list_text\"><div class=\"list_date\">September 22, 2020</div><div class=\"content_title\"><a href=\"/news/8759/nasas-new-mars-rover-will-use-x-rays-to-hunt-fossils/\" target=\"_self\">NASA's New Mars Rover Will Use X-Rays to Hunt Fossils</a></div><div class=\"article_teaser_body\">PIXL, an instrument on the end of the Perseverance rover's arm, will search for chemical fingerprints left by ancient microbes.</div></div></div></li><li class=\"slide\"><div class=\"image_and_description_container\"><a href=\"/news/8756/my-culture-my-voice/\" target=\"_self\"><div class=\"rollover_description\"><div class=\"rollover_description_inner\">In honor of Hispanic Heritage Month, Christina Hernandez, an instrument engineer on the Mars 2020 mission, talks about her childhood and journey to NASA.</div><div class=\"overlay_arrow\"><img alt=\"More\" src=\"/assets/overlay-arrow.png\"/></div></div><div class=\"list_image\"><img alt=\"Christina Hernandez inside the mission control area at JPL. \" src=\"/system/news_items/list_view_images/8756_25254_Christina_hernandez_mainmax-320x240.png\"/></div><div class=\"bottom_gradient\"><div><h3>My Culture, My Voice</h3></div></div></a><div class=\"list_text\"><div class=\"list_date\">September 16, 2020</div><div class=\"content_title\"><a href=\"/news/8756/my-culture-my-voice/\" target=\"_self\">My Culture, My Voice</a></div><div class=\"article_teaser_body\">In honor of Hispanic Heritage Month, Christina Hernandez, an instrument engineer on the Mars 2020 mission, talks about her childhood and journey to NASA.</div></div></div></li><li class=\"slide\"><div class=\"image_and_description_container\"><a href=\"/news/8749/nasa-readies-perseverance-mars-rovers-earthly-twin/\" target=\"_self\"><div class=\"rollover_description\"><div class=\"rollover_description_inner\">Did you know NASA's next Mars rover has a nearly identical sibling on Earth for testing? Even better, it's about to roll for the first time through a replica Martian landscape.</div><div class=\"overlay_arrow\"><img alt=\"More\" src=\"/assets/overlay-arrow.png\"/></div></div><div class=\"list_image\"><img alt=\"Engineers test drive Perseverance Mars rover's twin.\" src=\"/system/news_items/list_view_images/8749_PIA23964-320.jpg\"/></div><div class=\"bottom_gradient\"><div><h3>NASA Readies Perseverance Mars Rover's Earthly Twin </h3></div></div></a><div class=\"list_text\"><div class=\"list_date\">September  4, 2020</div><div class=\"content_title\"><a href=\"/news/8749/nasa-readies-perseverance-mars-rovers-earthly-twin/\" target=\"_self\">NASA Readies Perseverance Mars Rover's Earthly Twin </a></div><div class=\"article_teaser_body\">Did you know NASA's next Mars rover has a nearly identical sibling on Earth for testing? Even better, it's about to roll for the first time through a replica Martian landscape.</div></div></div></li><li class=\"slide\"><div class=\"image_and_description_container\"><a href=\"/news/8744/nasa-engineers-checking-insights-weather-sensors/\" target=\"_self\"><div class=\"rollover_description\"><div class=\"rollover_description_inner\">An electronics issue is suspected to be preventing the sensors from sharing their data about Mars weather with the spacecraft.</div><div class=\"overlay_arrow\"><img alt=\"More\" src=\"/assets/overlay-arrow.png\"/></div></div><div class=\"list_image\"><img alt=\"InSight Collecting Mars Weather Data\" src=\"/system/news_items/list_view_images/8744_PIA22957-226.jpg\"/></div><div class=\"bottom_gradient\"><div><h3>NASA Engineers Checking InSight's Weather Sensors</h3></div></div></a><div class=\"list_text\"><div class=\"list_date\">August 24, 2020</div><div class=\"content_title\"><a href=\"/news/8744/nasa-engineers-checking-insights-weather-sensors/\" target=\"_self\">NASA Engineers Checking InSight's Weather Sensors</a></div><div class=\"article_teaser_body\">An electronics issue is suspected to be preventing the sensors from sharing their data about Mars weather with the spacecraft.</div></div></div></li><li class=\"slide\"><div class=\"image_and_description_container\"><a href=\"/news/8742/follow-nasas-perseverance-rover-in-real-time-on-its-way-to-mars/\" target=\"_self\"><div class=\"rollover_description\"><div class=\"rollover_description_inner\">A crisply rendered web application can show you where the agency's Mars 2020 mission is right now as it makes its way to the Red Planet for a Feb. 18, 2021, landing.</div><div class=\"overlay_arrow\"><img alt=\"More\" src=\"/assets/overlay-arrow.png\"/></div></div><div class=\"list_image\"><img alt=\"Illustration of Mars 2020 spacecraft\" src=\"/system/news_items/list_view_images/8742_Mars2020-Earth-226.jpg\"/></div><div class=\"bottom_gradient\"><div><h3>Follow NASA's Perseverance Rover in Real Time on Its Way to Mars</h3></div></div></a><div class=\"list_text\"><div class=\"list_date\">August 21, 2020</div><div class=\"content_title\"><a href=\"/news/8742/follow-nasas-perseverance-rover-in-real-time-on-its-way-to-mars/\" target=\"_self\">Follow NASA's Perseverance Rover in Real Time on Its Way to Mars</a></div><div class=\"article_teaser_body\">A crisply rendered web application can show you where the agency's Mars 2020 mission is right now as it makes its way to the Red Planet for a Feb. 18, 2021, landing.</div></div></div></li><li class=\"slide\"><div class=\"image_and_description_container\"><a href=\"/news/8737/nasa-establishes-board-to-initially-review-mars-sample-return-plans/\" target=\"_self\"><div class=\"rollover_description\"><div class=\"rollover_description_inner\">The board will assist with analysis of current plans and goals for one of the most difficult missions humanity has ever undertaken.</div><div class=\"overlay_arrow\"><img alt=\"More\" src=\"/assets/overlay-arrow.png\"/></div></div><div class=\"list_image\"><img alt=\"Mars 2020 With Sample Tubes (Artist's Concept)\" src=\"/system/news_items/list_view_images/8737_24760_PIA23492-320x240.jpg\"/></div><div class=\"bottom_gradient\"><div><h3>NASA Establishes Board to Initially Review Mars Sample Return Plans</h3></div></div></a><div class=\"list_text\"><div class=\"list_date\">August 14, 2020</div><div class=\"content_title\"><a href=\"/news/8737/nasa-establishes-board-to-initially-review-mars-sample-return-plans/\" target=\"_self\">NASA Establishes Board to Initially Review Mars Sample Return Plans</a></div><div class=\"article_teaser_body\">The board will assist with analysis of current plans and goals for one of the most difficult missions humanity has ever undertaken.</div></div></div></li><li class=\"slide\"><div class=\"image_and_description_container\"><a href=\"/news/8736/nasas-ingenuity-mars-helicopter-recharges-its-batteries-in-flight/\" target=\"_self\"><div class=\"rollover_description\"><div class=\"rollover_description_inner\">Headed to the Red Planet with the Perseverance rover, the pioneering helicopter is powered up for the first time in interplanetary space as part of a systems check.</div><div class=\"overlay_arrow\"><img alt=\"More\" src=\"/assets/overlay-arrow.png\"/></div></div><div class=\"list_image\"><img alt=\"Mars 2020 Perseverance rover and the Ingenuity Mars Helicopter\" src=\"/system/news_items/list_view_images/8736_PIA24043-Rover-and-Helicopter-320x240.jpg\"/></div><div class=\"bottom_gradient\"><div><h3>NASA's Ingenuity Mars Helicopter Recharges Its Batteries in Flight</h3></div></div></a><div class=\"list_text\"><div class=\"list_date\">August 13, 2020</div><div class=\"content_title\"><a href=\"/news/8736/nasas-ingenuity-mars-helicopter-recharges-its-batteries-in-flight/\" target=\"_self\">NASA's Ingenuity Mars Helicopter Recharges Its Batteries in Flight</a></div><div class=\"article_teaser_body\">Headed to the Red Planet with the Perseverance rover, the pioneering helicopter is powered up for the first time in interplanetary space as part of a systems check.</div></div></div></li><li class=\"slide\"><div class=\"image_and_description_container\"><a href=\"/news/8735/celebrate-mars-reconnaissance-orbiters-views-from-above/\" target=\"_self\"><div class=\"rollover_description\"><div class=\"rollover_description_inner\">Marking its 15th anniversary since launch, one of the oldest spacecraft at the Red Planet has provided glimpses of dust devils, avalanches, and more.</div><div class=\"overlay_arrow\"><img alt=\"More\" src=\"/assets/overlay-arrow.png\"/></div></div><div class=\"list_image\"><img alt=\"Side-by-side movies shows how the 2018 global dust storm enveloped Mars\" src=\"/system/news_items/list_view_images/8735_collage-320.jpg\"/></div><div class=\"bottom_gradient\"><div><h3>Celebrate Mars Reconnaissance Orbiter's Views From Above</h3></div></div></a><div class=\"list_text\"><div class=\"list_date\">August 12, 2020</div><div class=\"content_title\"><a href=\"/news/8735/celebrate-mars-reconnaissance-orbiters-views-from-above/\" target=\"_self\">Celebrate Mars Reconnaissance Orbiter's Views From Above</a></div><div class=\"article_teaser_body\">Marking its 15th anniversary since launch, one of the oldest spacecraft at the Red Planet has provided glimpses of dust devils, avalanches, and more.</div></div></div></li><li class=\"slide\"><div class=\"image_and_description_container\"><a href=\"/news/8731/nasas-maven-observes-martian-night-sky-pulsing-in-ultraviolet-light/\" target=\"_self\"><div class=\"rollover_description\"><div class=\"rollover_description_inner\">Vast areas of the Martian night sky pulse in ultraviolet light, according to images from NASA’s MAVEN spacecraft. The results are being used to illuminate complex circulation patterns in the Martian atmosphere.</div><div class=\"overlay_arrow\"><img alt=\"More\" src=\"/assets/overlay-arrow.png\"/></div></div><div class=\"list_image\"><img alt=\"ultraviolet “nightglow” in the Martian atmosphere\" src=\"/system/news_items/list_view_images/8731_MAVEN_nightglow_pulsating_spot-320x240.jpg\"/></div><div class=\"bottom_gradient\"><div><h3>NASA's MAVEN Observes Martian Night Sky Pulsing in Ultraviolet Light</h3></div></div></a><div class=\"list_text\"><div class=\"list_date\">August  6, 2020</div><div class=\"content_title\"><a href=\"/news/8731/nasas-maven-observes-martian-night-sky-pulsing-in-ultraviolet-light/\" target=\"_self\">NASA's MAVEN Observes Martian Night Sky Pulsing in Ultraviolet Light</a></div><div class=\"article_teaser_body\">Vast areas of the Martian night sky pulse in ultraviolet light, according to images from NASA’s MAVEN spacecraft. The results are being used to illuminate complex circulation patterns in the Martian atmosphere.</div></div></div></li><li class=\"slide\"><div class=\"image_and_description_container\"><a href=\"/news/8726/8-martian-postcards-to-celebrate-curiositys-landing-anniversary/\" target=\"_self\"><div class=\"rollover_description\"><div class=\"rollover_description_inner\">The NASA rover touched down eight years ago, on Aug. 5, 2012, and will soon be joined by a second rover, Perseverance.</div><div class=\"overlay_arrow\"><img alt=\"More\" src=\"/assets/overlay-arrow.png\"/></div></div><div class=\"list_image\"><img alt=\"Color view of Mars' Mount Sharp\" src=\"/system/news_items/list_view_images/8726_PIA23898-320.jpg\"/></div><div class=\"bottom_gradient\"><div><h3>8 Martian Postcards to Celebrate Curiosity's Landing Anniversary</h3></div></div></a><div class=\"list_text\"><div class=\"list_date\">August  3, 2020</div><div class=\"content_title\"><a href=\"/news/8726/8-martian-postcards-to-celebrate-curiositys-landing-anniversary/\" target=\"_self\">8 Martian Postcards to Celebrate Curiosity's Landing Anniversary</a></div><div class=\"article_teaser_body\">The NASA rover touched down eight years ago, on Aug. 5, 2012, and will soon be joined by a second rover, Perseverance.</div></div></div></li><li class=\"slide\"><div class=\"image_and_description_container\"><a href=\"/news/8724/nasa-ula-launch-mars-2020-perseverance-rover-mission-to-red-planet/\" target=\"_self\"><div class=\"rollover_description\"><div class=\"rollover_description_inner\">The agency's Mars 2020 mission is on its way. It will land at Jezero Crater in about seven months, on Feb. 18, 2021. </div><div class=\"overlay_arrow\"><img alt=\"More\" src=\"/assets/overlay-arrow.png\"/></div></div><div class=\"list_image\"><img alt=\"Launch of Mars Perseverance\" src=\"/system/news_items/list_view_images/8724_launchscreen-320x240.jpg\"/></div><div class=\"bottom_gradient\"><div><h3>NASA, ULA Launch Mars 2020 Perseverance Rover Mission to Red Planet</h3></div></div></a><div class=\"list_text\"><div class=\"list_date\">July 30, 2020</div><div class=\"content_title\"><a href=\"/news/8724/nasa-ula-launch-mars-2020-perseverance-rover-mission-to-red-planet/\" target=\"_self\">NASA, ULA Launch Mars 2020 Perseverance Rover Mission to Red Planet</a></div><div class=\"article_teaser_body\">The agency's Mars 2020 mission is on its way. It will land at Jezero Crater in about seven months, on Feb. 18, 2021. </div></div></div></li><li class=\"slide\"><div class=\"image_and_description_container\"><a href=\"/news/8723/nasas-perseverance-rover-will-carry-first-spacesuit-materials-to-mars/\" target=\"_self\"><div class=\"rollover_description\"><div class=\"rollover_description_inner\">In a Q&amp;A, spacesuit designer Amy Ross explains how five samples, including a piece of helmet visor, will be tested aboard the rover, which is targeting a July 30 launch. </div><div class=\"overlay_arrow\"><img alt=\"More\" src=\"/assets/overlay-arrow.png\"/></div></div><div class=\"list_image\"><img alt=\"An illustration of NASA astronauts on Mars\" src=\"/system/news_items/list_view_images/8723_PIA24031-320.jpg\"/></div><div class=\"bottom_gradient\"><div><h3>NASA's Perseverance Rover Will Carry First Spacesuit Materials to Mars</h3></div></div></a><div class=\"list_text\"><div class=\"list_date\">July 28, 2020</div><div class=\"content_title\"><a href=\"/news/8723/nasas-perseverance-rover-will-carry-first-spacesuit-materials-to-mars/\" target=\"_self\">NASA's Perseverance Rover Will Carry First Spacesuit Materials to Mars</a></div><div class=\"article_teaser_body\">In a Q&amp;A, spacesuit designer Amy Ross explains how five samples, including a piece of helmet visor, will be tested aboard the rover, which is targeting a July 30 launch. </div></div></div></li><li class=\"slide\"><div class=\"image_and_description_container\"><a href=\"/news/8721/a-new-video-captures-the-science-of-nasas-perseverance-mars-rover/\" target=\"_self\"><div class=\"rollover_description\"><div class=\"rollover_description_inner\">With a targeted launch date of July 30, the next robotic scientist NASA is sending to the to the Red Planet has big ambitions.</div><div class=\"overlay_arrow\"><img alt=\"More\" src=\"/assets/overlay-arrow.png\"/></div></div><div class=\"list_image\"><img alt=\"\" src=\"/system/news_items/list_view_images/8721_24759_PIA23491-320x240.jpg\"/></div><div class=\"bottom_gradient\"><div><h3>A New Video Captures the Science of NASA's Perseverance Mars Rover</h3></div></div></a><div class=\"list_text\"><div class=\"list_date\">July 27, 2020</div><div class=\"content_title\"><a href=\"/news/8721/a-new-video-captures-the-science-of-nasas-perseverance-mars-rover/\" target=\"_self\">A New Video Captures the Science of NASA's Perseverance Mars Rover</a></div><div class=\"article_teaser_body\">With a targeted launch date of July 30, the next robotic scientist NASA is sending to the to the Red Planet has big ambitions.</div></div></div></li><li class=\"slide\"><div class=\"image_and_description_container\"><a href=\"/news/8719/nasa-invites-public-to-share-excitement-of-mars-2020-perseverance-rover-launch/\" target=\"_self\"><div class=\"rollover_description\"><div class=\"rollover_description_inner\">There are lots of ways to participate in the historic event, which is targeted for July 30.</div><div class=\"overlay_arrow\"><img alt=\"More\" src=\"/assets/overlay-arrow.png\"/></div></div><div class=\"list_image\"><img alt=\"illustration of the Mars 2020 launch\" src=\"/system/news_items/list_view_images/8719_launch-at-home-320.jpg\"/></div><div class=\"bottom_gradient\"><div><h3>NASA Invites Public to Share Excitement of Mars 2020 Perseverance Rover Launch</h3></div></div></a><div class=\"list_text\"><div class=\"list_date\">July 23, 2020</div><div class=\"content_title\"><a href=\"/news/8719/nasa-invites-public-to-share-excitement-of-mars-2020-perseverance-rover-launch/\" target=\"_self\">NASA Invites Public to Share Excitement of Mars 2020 Perseverance Rover Launch</a></div><div class=\"article_teaser_body\">There are lots of ways to participate in the historic event, which is targeted for July 30.</div></div></div></li><li class=\"slide\"><div class=\"image_and_description_container\"><a href=\"/news/8718/nasas-mars-perseverance-rover-passes-flight-readiness-review/\" target=\"_self\"><div class=\"rollover_description\"><div class=\"rollover_description_inner\">​The agency's Mars 2020 mission has one more big prelaunch review – the Launch Readiness Review, on July 27.</div><div class=\"overlay_arrow\"><img alt=\"More\" src=\"/assets/overlay-arrow.png\"/></div></div><div class=\"list_image\"><img alt=\"payload fairing, or nose cone, containing NASA's Mars 2020 Perseverance rover\" src=\"/system/news_items/list_view_images/8718_25106_PIA23986-320.jpg\"/></div><div class=\"bottom_gradient\"><div><h3>NASA's Mars Perseverance Rover Passes Flight Readiness Review</h3></div></div></a><div class=\"list_text\"><div class=\"list_date\">July 22, 2020</div><div class=\"content_title\"><a href=\"/news/8718/nasas-mars-perseverance-rover-passes-flight-readiness-review/\" target=\"_self\">NASA's Mars Perseverance Rover Passes Flight Readiness Review</a></div><div class=\"article_teaser_body\">​The agency's Mars 2020 mission has one more big prelaunch review – the Launch Readiness Review, on July 27.</div></div></div></li><li class=\"slide\"><div class=\"image_and_description_container\"><a href=\"/news/8716/nasa-to-broadcast-mars-2020-perseverance-launch-prelaunch-activities/\" target=\"_self\"><div class=\"rollover_description\"><div class=\"rollover_description_inner\">Starting July 27, news activities will cover everything from mission engineering and science to returning samples from Mars to, of course, the launch itself.</div><div class=\"overlay_arrow\"><img alt=\"More\" src=\"/assets/overlay-arrow.png\"/></div></div><div class=\"list_image\"><img alt=\"Mars 2020 Perseverance Rover\" src=\"/system/news_items/list_view_images/8716_PIA23499-320x240.jpg\"/></div><div class=\"bottom_gradient\"><div><h3>NASA to Broadcast Mars 2020 Perseverance Launch, Prelaunch Activities</h3></div></div></a><div class=\"list_text\"><div class=\"list_date\">July 17, 2020</div><div class=\"content_title\"><a href=\"/news/8716/nasa-to-broadcast-mars-2020-perseverance-launch-prelaunch-activities/\" target=\"_self\">NASA to Broadcast Mars 2020 Perseverance Launch, Prelaunch Activities</a></div><div class=\"article_teaser_body\">Starting July 27, news activities will cover everything from mission engineering and science to returning samples from Mars to, of course, the launch itself.</div></div></div></li><li class=\"slide\"><div class=\"image_and_description_container\"><a href=\"/news/8712/6-things-to-know-about-nasas-ingenuity-mars-helicopter/\" target=\"_self\"><div class=\"rollover_description\"><div class=\"rollover_description_inner\">The first helicopter attempting to fly on another planet is a marvel of engineering. Get up to speed with these key facts about its plans.</div><div class=\"overlay_arrow\"><img alt=\"More\" src=\"/assets/overlay-arrow.png\"/></div></div><div class=\"list_image\"><img alt=\"\" src=\"/system/news_items/list_view_images/8712_PIA23720-320x240.jpg\"/></div><div class=\"bottom_gradient\"><div><h3>6 Things to Know About NASA's Ingenuity Mars Helicopter</h3></div></div></a><div class=\"list_text\"><div class=\"list_date\">July 14, 2020</div><div class=\"content_title\"><a href=\"/news/8712/6-things-to-know-about-nasas-ingenuity-mars-helicopter/\" target=\"_self\">6 Things to Know About NASA's Ingenuity Mars Helicopter</a></div><div class=\"article_teaser_body\">The first helicopter attempting to fly on another planet is a marvel of engineering. Get up to speed with these key facts about its plans.</div></div></div></li></ul>]"
      ]
     },
     "execution_count": 44,
     "metadata": {},
     "output_type": "execute_result"
    }
   ],
   "source": [
    "results = soup.find_all('ul',class_='item_list')\n",
    "results"
   ]
  },
  {
   "cell_type": "code",
   "execution_count": 49,
   "metadata": {},
   "outputs": [
    {
     "name": "stdout",
     "output_type": "stream",
     "text": [
      "NASA's Curiosity Rover Reaches Its 3,000th Day on Mars\n",
      "-----------\n",
      "As the rover has continued to ascend Mount Sharp, it’s found distinctive benchlike rock formations.\n"
     ]
    }
   ],
   "source": [
    "for result in results:\n",
    "    news_title = result.find('div',class_='content_title').text\n",
    "    news_p = result.find('div',class_='article_teaser_body').text\n",
    "    print(news_title)\n",
    "    print(\"-----------\")\n",
    "    print(news_p)\n"
   ]
  },
  {
   "cell_type": "code",
   "execution_count": 31,
   "metadata": {},
   "outputs": [],
   "source": [
    "browser.quit()"
   ]
  },
  {
   "cell_type": "markdown",
   "metadata": {},
   "source": [
    "## JPL Mars Space Images - Featured Image"
   ]
  },
  {
   "cell_type": "code",
   "execution_count": 12,
   "metadata": {},
   "outputs": [
    {
     "name": "stderr",
     "output_type": "stream",
     "text": [
      "[WDM] - Current google-chrome version is 87.0.4280\n",
      "[WDM] - Get LATEST driver version for 87.0.4280\n",
      "[WDM] - Driver [C:\\Users\\novad\\.wdm\\drivers\\chromedriver\\win32\\87.0.4280.88\\chromedriver.exe] found in cache\n"
     ]
    },
    {
     "name": "stdout",
     "output_type": "stream",
     "text": [
      " \n"
     ]
    }
   ],
   "source": [
    "executable_path = {'executable_path': ChromeDriverManager().install()}\n",
    "browser = Browser('chrome', **executable_path, headless=False)"
   ]
  },
  {
   "cell_type": "code",
   "execution_count": 13,
   "metadata": {},
   "outputs": [],
   "source": [
    "url = 'https://www.jpl.nasa.gov/'\n",
    "browser.visit(url)"
   ]
  },
  {
   "cell_type": "code",
   "execution_count": 14,
   "metadata": {},
   "outputs": [],
   "source": [
    "xpath = '/html/body/div/div/div/header/div[1]/div[3]/div/nav/div[1]/div[4]/button/span'\n",
    "browser.find_by_xpath(xpath).click()\n",
    "\n",
    "xpath = '/html/body/div/div/div/header/div[1]/div[3]/div/nav/div[1]/div[4]/div/div/div/div/div[1]/div/div/div/a/p[1]'\n",
    "browser.find_by_xpath(xpath).click()\n",
    "\n",
    "xpath = '/html/body/div/div/div/main/div/div[2]/div/div/div[2]/button/span'\n",
    "browser.find_by_xpath(xpath).click()"
   ]
  },
  {
   "cell_type": "code",
   "execution_count": 21,
   "metadata": {},
   "outputs": [
    {
     "name": "stdout",
     "output_type": "stream",
     "text": [
      "https://d2pn8kiwq2w21t.cloudfront.net/original_images/jpegPIA24179.jpg\n"
     ]
    }
   ],
   "source": [
    "html = browser.html\n",
    "soup = bs(html, 'html.parser')\n",
    "\n",
    "results = soup.find_all('div', class_='BaseLightbox__slide__img')\n",
    "for result in results:\n",
    "    featured_image_url = result.img['src']\n",
    "    print(featured_image_url)"
   ]
  },
  {
   "cell_type": "code",
   "execution_count": null,
   "metadata": {},
   "outputs": [],
   "source": [
    "browser.quit()"
   ]
  },
  {
   "cell_type": "markdown",
   "metadata": {},
   "source": [
    "## Mars Facts"
   ]
  },
  {
   "cell_type": "code",
   "execution_count": null,
   "metadata": {},
   "outputs": [],
   "source": [
    "import pandas as pd"
   ]
  },
  {
   "cell_type": "code",
   "execution_count": null,
   "metadata": {},
   "outputs": [],
   "source": [
    "url = 'https://space-facts.com/mars/'"
   ]
  },
  {
   "cell_type": "code",
   "execution_count": null,
   "metadata": {},
   "outputs": [],
   "source": [
    "tables = pd.read_html(url)\n",
    "tables"
   ]
  },
  {
   "cell_type": "code",
   "execution_count": null,
   "metadata": {},
   "outputs": [],
   "source": [
    "mars_df = tables[0]\n",
    "mars_df.head()"
   ]
  },
  {
   "cell_type": "code",
   "execution_count": null,
   "metadata": {},
   "outputs": [],
   "source": [
    "mars_facts = mars_df.rename(columns={0:\"\",1:\"Mars\"})\n",
    "mars_facts1 = mars_facts.set_index(\"\")\n",
    "mars_facts1"
   ]
  },
  {
   "cell_type": "code",
   "execution_count": null,
   "metadata": {},
   "outputs": [],
   "source": [
    "mars_facts1.to_html('mars_facts.html')"
   ]
  },
  {
   "cell_type": "markdown",
   "metadata": {},
   "source": [
    "## Mars Hemispheres"
   ]
  },
  {
   "cell_type": "code",
   "execution_count": null,
   "metadata": {},
   "outputs": [],
   "source": [
    "mars_url = 'https://astrogeology.usgs.gov/search/map/Mars/Viking/cerberus_enhanced'\n",
    "\n",
    "mars_hemispheres = ['cerberus', 'schiaparelli', 'syrtis_major', 'valles_marineris']"
   ]
  },
  {
   "cell_type": "code",
   "execution_count": null,
   "metadata": {},
   "outputs": [],
   "source": [
    "response = requests.get(mars_url)\n",
    "soup = bs(response.text, \"html.parser\")"
   ]
  },
  {
   "cell_type": "code",
   "execution_count": null,
   "metadata": {},
   "outputs": [],
   "source": [
    "hemisphere_image_urls = []\n",
    "\n",
    "for hemisphere in mars_hemispheres:\n",
    "    mars_url = f'https://astrogeology.usgs.gov/search/map/Mars/Viking/{hemisphere}_enhanced'\n",
    "    response = requests.get(mars_url)\n",
    "    soup = bs(response.text, \"html.parser\")\n",
    "    results = soup.find_all(\"img\", class_='wide-image')\n",
    "    \n",
    "    for result in results:\n",
    "        img_url = result.get('src')\n",
    "        title = soup.find(\"h2\", class_='title').text\n",
    "        title = title.replace(' Enhanced',\"\")\n",
    "        mars_dict = {\n",
    "            \"title\": title,\n",
    "            \"img_url\": \"https://astrogeology.usgs.gov\" + img_url\n",
    "        }\n",
    "        hemisphere_image_urls.append(mars_dict)\n",
    "    "
   ]
  },
  {
   "cell_type": "code",
   "execution_count": null,
   "metadata": {},
   "outputs": [],
   "source": [
    "hemisphere_image_urls"
   ]
  },
  {
   "cell_type": "code",
   "execution_count": null,
   "metadata": {},
   "outputs": [],
   "source": []
  }
 ],
 "metadata": {
  "kernelspec": {
   "display_name": "Python [conda env:PythonData] *",
   "language": "python",
   "name": "conda-env-PythonData-py"
  },
  "language_info": {
   "codemirror_mode": {
    "name": "ipython",
    "version": 3
   },
   "file_extension": ".py",
   "mimetype": "text/x-python",
   "name": "python",
   "nbconvert_exporter": "python",
   "pygments_lexer": "ipython3",
   "version": "3.6.12"
  }
 },
 "nbformat": 4,
 "nbformat_minor": 4
}
